{
  "nbformat": 4,
  "nbformat_minor": 0,
  "metadata": {
    "colab": {
      "name": "AI CAT2 - Predicting House Prices in Boston using ANN",
      "provenance": [],
      "collapsed_sections": []
    },
    "kernelspec": {
      "name": "python3",
      "display_name": "Python 3"
    }
  },
  "cells": [
    {
      "cell_type": "code",
      "metadata": {
        "id": "I825epHsDMs8"
      },
      "source": [
        "import pandas as pd\r\n",
        "import numpy as np\r\n",
        "import tensorflow as tf\r\n",
        "from sklearn.preprocessing import MinMaxScaler"
      ],
      "execution_count": 5,
      "outputs": []
    },
    {
      "cell_type": "markdown",
      "metadata": {
        "id": "JfSOQUjOFM3a"
      },
      "source": [
        "Grab the dataset and split it into testing and training datasets"
      ]
    },
    {
      "cell_type": "code",
      "metadata": {
        "colab": {
          "base_uri": "https://localhost:8080/",
          "height": 235
        },
        "id": "Rst60zltDTla",
        "outputId": "55209d60-4238-4922-b26c-cd7760aa6dc2"
      },
      "source": [
        "train_df = pd.read_csv('https://firebasestorage.googleapis.com/v0/b/bible-project-2365c.appspot.com/o/train.csv?alt=media&token=9c5d17c2-0589-43ea-b992-e7c2ad02d714', index_col='ID')\r\n",
        "train_df.head()"
      ],
      "execution_count": 2,
      "outputs": [
        {
          "output_type": "execute_result",
          "data": {
            "text/html": [
              "<div>\n",
              "<style scoped>\n",
              "    .dataframe tbody tr th:only-of-type {\n",
              "        vertical-align: middle;\n",
              "    }\n",
              "\n",
              "    .dataframe tbody tr th {\n",
              "        vertical-align: top;\n",
              "    }\n",
              "\n",
              "    .dataframe thead th {\n",
              "        text-align: right;\n",
              "    }\n",
              "</style>\n",
              "<table border=\"1\" class=\"dataframe\">\n",
              "  <thead>\n",
              "    <tr style=\"text-align: right;\">\n",
              "      <th></th>\n",
              "      <th>crim</th>\n",
              "      <th>zn</th>\n",
              "      <th>indus</th>\n",
              "      <th>chas</th>\n",
              "      <th>nox</th>\n",
              "      <th>rm</th>\n",
              "      <th>age</th>\n",
              "      <th>dis</th>\n",
              "      <th>rad</th>\n",
              "      <th>tax</th>\n",
              "      <th>ptratio</th>\n",
              "      <th>black</th>\n",
              "      <th>lstat</th>\n",
              "      <th>medv</th>\n",
              "    </tr>\n",
              "    <tr>\n",
              "      <th>ID</th>\n",
              "      <th></th>\n",
              "      <th></th>\n",
              "      <th></th>\n",
              "      <th></th>\n",
              "      <th></th>\n",
              "      <th></th>\n",
              "      <th></th>\n",
              "      <th></th>\n",
              "      <th></th>\n",
              "      <th></th>\n",
              "      <th></th>\n",
              "      <th></th>\n",
              "      <th></th>\n",
              "      <th></th>\n",
              "    </tr>\n",
              "  </thead>\n",
              "  <tbody>\n",
              "    <tr>\n",
              "      <th>1</th>\n",
              "      <td>0.00632</td>\n",
              "      <td>18.0</td>\n",
              "      <td>2.31</td>\n",
              "      <td>0</td>\n",
              "      <td>0.538</td>\n",
              "      <td>6.575</td>\n",
              "      <td>65.2</td>\n",
              "      <td>4.0900</td>\n",
              "      <td>1</td>\n",
              "      <td>296</td>\n",
              "      <td>15.3</td>\n",
              "      <td>396.90</td>\n",
              "      <td>4.98</td>\n",
              "      <td>24.0</td>\n",
              "    </tr>\n",
              "    <tr>\n",
              "      <th>2</th>\n",
              "      <td>0.02731</td>\n",
              "      <td>0.0</td>\n",
              "      <td>7.07</td>\n",
              "      <td>0</td>\n",
              "      <td>0.469</td>\n",
              "      <td>6.421</td>\n",
              "      <td>78.9</td>\n",
              "      <td>4.9671</td>\n",
              "      <td>2</td>\n",
              "      <td>242</td>\n",
              "      <td>17.8</td>\n",
              "      <td>396.90</td>\n",
              "      <td>9.14</td>\n",
              "      <td>21.6</td>\n",
              "    </tr>\n",
              "    <tr>\n",
              "      <th>4</th>\n",
              "      <td>0.03237</td>\n",
              "      <td>0.0</td>\n",
              "      <td>2.18</td>\n",
              "      <td>0</td>\n",
              "      <td>0.458</td>\n",
              "      <td>6.998</td>\n",
              "      <td>45.8</td>\n",
              "      <td>6.0622</td>\n",
              "      <td>3</td>\n",
              "      <td>222</td>\n",
              "      <td>18.7</td>\n",
              "      <td>394.63</td>\n",
              "      <td>2.94</td>\n",
              "      <td>33.4</td>\n",
              "    </tr>\n",
              "    <tr>\n",
              "      <th>5</th>\n",
              "      <td>0.06905</td>\n",
              "      <td>0.0</td>\n",
              "      <td>2.18</td>\n",
              "      <td>0</td>\n",
              "      <td>0.458</td>\n",
              "      <td>7.147</td>\n",
              "      <td>54.2</td>\n",
              "      <td>6.0622</td>\n",
              "      <td>3</td>\n",
              "      <td>222</td>\n",
              "      <td>18.7</td>\n",
              "      <td>396.90</td>\n",
              "      <td>5.33</td>\n",
              "      <td>36.2</td>\n",
              "    </tr>\n",
              "    <tr>\n",
              "      <th>7</th>\n",
              "      <td>0.08829</td>\n",
              "      <td>12.5</td>\n",
              "      <td>7.87</td>\n",
              "      <td>0</td>\n",
              "      <td>0.524</td>\n",
              "      <td>6.012</td>\n",
              "      <td>66.6</td>\n",
              "      <td>5.5605</td>\n",
              "      <td>5</td>\n",
              "      <td>311</td>\n",
              "      <td>15.2</td>\n",
              "      <td>395.60</td>\n",
              "      <td>12.43</td>\n",
              "      <td>22.9</td>\n",
              "    </tr>\n",
              "  </tbody>\n",
              "</table>\n",
              "</div>"
            ],
            "text/plain": [
              "       crim    zn  indus  chas    nox  ...  tax  ptratio   black  lstat  medv\n",
              "ID                                     ...                                   \n",
              "1   0.00632  18.0   2.31     0  0.538  ...  296     15.3  396.90   4.98  24.0\n",
              "2   0.02731   0.0   7.07     0  0.469  ...  242     17.8  396.90   9.14  21.6\n",
              "4   0.03237   0.0   2.18     0  0.458  ...  222     18.7  394.63   2.94  33.4\n",
              "5   0.06905   0.0   2.18     0  0.458  ...  222     18.7  396.90   5.33  36.2\n",
              "7   0.08829  12.5   7.87     0  0.524  ...  311     15.2  395.60  12.43  22.9\n",
              "\n",
              "[5 rows x 14 columns]"
            ]
          },
          "metadata": {
            "tags": []
          },
          "execution_count": 2
        }
      ]
    },
    {
      "cell_type": "code",
      "metadata": {
        "colab": {
          "base_uri": "https://localhost:8080/",
          "height": 235
        },
        "id": "bFw4p4PXDV_a",
        "outputId": "f408ed78-fdaf-4a56-dc92-d9df23e78b64"
      },
      "source": [
        "test_df = pd.read_csv('https://firebasestorage.googleapis.com/v0/b/bible-project-2365c.appspot.com/o/test.csv?alt=media&token=99688b27-9fdb-4ac3-93b8-fa0e0f4d7540', index_col='ID')\r\n",
        "test_df.head()"
      ],
      "execution_count": 3,
      "outputs": [
        {
          "output_type": "execute_result",
          "data": {
            "text/html": [
              "<div>\n",
              "<style scoped>\n",
              "    .dataframe tbody tr th:only-of-type {\n",
              "        vertical-align: middle;\n",
              "    }\n",
              "\n",
              "    .dataframe tbody tr th {\n",
              "        vertical-align: top;\n",
              "    }\n",
              "\n",
              "    .dataframe thead th {\n",
              "        text-align: right;\n",
              "    }\n",
              "</style>\n",
              "<table border=\"1\" class=\"dataframe\">\n",
              "  <thead>\n",
              "    <tr style=\"text-align: right;\">\n",
              "      <th></th>\n",
              "      <th>crim</th>\n",
              "      <th>zn</th>\n",
              "      <th>indus</th>\n",
              "      <th>chas</th>\n",
              "      <th>nox</th>\n",
              "      <th>rm</th>\n",
              "      <th>age</th>\n",
              "      <th>dis</th>\n",
              "      <th>rad</th>\n",
              "      <th>tax</th>\n",
              "      <th>ptratio</th>\n",
              "      <th>black</th>\n",
              "      <th>lstat</th>\n",
              "    </tr>\n",
              "    <tr>\n",
              "      <th>ID</th>\n",
              "      <th></th>\n",
              "      <th></th>\n",
              "      <th></th>\n",
              "      <th></th>\n",
              "      <th></th>\n",
              "      <th></th>\n",
              "      <th></th>\n",
              "      <th></th>\n",
              "      <th></th>\n",
              "      <th></th>\n",
              "      <th></th>\n",
              "      <th></th>\n",
              "      <th></th>\n",
              "    </tr>\n",
              "  </thead>\n",
              "  <tbody>\n",
              "    <tr>\n",
              "      <th>3</th>\n",
              "      <td>0.02729</td>\n",
              "      <td>0.0</td>\n",
              "      <td>7.07</td>\n",
              "      <td>0</td>\n",
              "      <td>0.469</td>\n",
              "      <td>7.185</td>\n",
              "      <td>61.1</td>\n",
              "      <td>4.9671</td>\n",
              "      <td>2</td>\n",
              "      <td>242</td>\n",
              "      <td>17.8</td>\n",
              "      <td>392.83</td>\n",
              "      <td>4.03</td>\n",
              "    </tr>\n",
              "    <tr>\n",
              "      <th>6</th>\n",
              "      <td>0.02985</td>\n",
              "      <td>0.0</td>\n",
              "      <td>2.18</td>\n",
              "      <td>0</td>\n",
              "      <td>0.458</td>\n",
              "      <td>6.430</td>\n",
              "      <td>58.7</td>\n",
              "      <td>6.0622</td>\n",
              "      <td>3</td>\n",
              "      <td>222</td>\n",
              "      <td>18.7</td>\n",
              "      <td>394.12</td>\n",
              "      <td>5.21</td>\n",
              "    </tr>\n",
              "    <tr>\n",
              "      <th>8</th>\n",
              "      <td>0.14455</td>\n",
              "      <td>12.5</td>\n",
              "      <td>7.87</td>\n",
              "      <td>0</td>\n",
              "      <td>0.524</td>\n",
              "      <td>6.172</td>\n",
              "      <td>96.1</td>\n",
              "      <td>5.9505</td>\n",
              "      <td>5</td>\n",
              "      <td>311</td>\n",
              "      <td>15.2</td>\n",
              "      <td>396.90</td>\n",
              "      <td>19.15</td>\n",
              "    </tr>\n",
              "    <tr>\n",
              "      <th>9</th>\n",
              "      <td>0.21124</td>\n",
              "      <td>12.5</td>\n",
              "      <td>7.87</td>\n",
              "      <td>0</td>\n",
              "      <td>0.524</td>\n",
              "      <td>5.631</td>\n",
              "      <td>100.0</td>\n",
              "      <td>6.0821</td>\n",
              "      <td>5</td>\n",
              "      <td>311</td>\n",
              "      <td>15.2</td>\n",
              "      <td>386.63</td>\n",
              "      <td>29.93</td>\n",
              "    </tr>\n",
              "    <tr>\n",
              "      <th>10</th>\n",
              "      <td>0.17004</td>\n",
              "      <td>12.5</td>\n",
              "      <td>7.87</td>\n",
              "      <td>0</td>\n",
              "      <td>0.524</td>\n",
              "      <td>6.004</td>\n",
              "      <td>85.9</td>\n",
              "      <td>6.5921</td>\n",
              "      <td>5</td>\n",
              "      <td>311</td>\n",
              "      <td>15.2</td>\n",
              "      <td>386.71</td>\n",
              "      <td>17.10</td>\n",
              "    </tr>\n",
              "  </tbody>\n",
              "</table>\n",
              "</div>"
            ],
            "text/plain": [
              "       crim    zn  indus  chas    nox  ...  rad  tax  ptratio   black  lstat\n",
              "ID                                     ...                                  \n",
              "3   0.02729   0.0   7.07     0  0.469  ...    2  242     17.8  392.83   4.03\n",
              "6   0.02985   0.0   2.18     0  0.458  ...    3  222     18.7  394.12   5.21\n",
              "8   0.14455  12.5   7.87     0  0.524  ...    5  311     15.2  396.90  19.15\n",
              "9   0.21124  12.5   7.87     0  0.524  ...    5  311     15.2  386.63  29.93\n",
              "10  0.17004  12.5   7.87     0  0.524  ...    5  311     15.2  386.71  17.10\n",
              "\n",
              "[5 rows x 13 columns]"
            ]
          },
          "metadata": {
            "tags": []
          },
          "execution_count": 3
        }
      ]
    },
    {
      "cell_type": "code",
      "metadata": {
        "id": "Ruu9J5CDDduO"
      },
      "source": [
        "predictors = ['crim', 'zn', 'indus', 'chas', 'nox', 'rm', 'age', 'dis', 'rad', 'tax', 'ptratio', 'black', 'lstat']\r\n",
        "target = 'medv'  #The value we are interested in predicting"
      ],
      "execution_count": 4,
      "outputs": []
    },
    {
      "cell_type": "markdown",
      "metadata": {
        "id": "f8S20Fe6Dfkl"
      },
      "source": [
        "Normalization of Data"
      ]
    },
    {
      "cell_type": "code",
      "metadata": {
        "id": "JjaoJBmkDhZA"
      },
      "source": [
        "scaler = MinMaxScaler(feature_range=(0, 1))\r\n",
        "# Scale both the training inputs and outputs\r\n",
        "scaled_train = scaler.fit_transform(train_df)\r\n",
        "#scaled_test = scaler.transform(test_df)"
      ],
      "execution_count": 6,
      "outputs": []
    },
    {
      "cell_type": "code",
      "metadata": {
        "id": "fG1jAhmeDr99"
      },
      "source": [
        "multiplied_by = scaler.scale_[13]\r\n",
        "added = scaler.min_[13]"
      ],
      "execution_count": 7,
      "outputs": []
    },
    {
      "cell_type": "code",
      "metadata": {
        "id": "0JBJkJ7rEXnX"
      },
      "source": [
        "scaled_train_df = pd.DataFrame(scaled_train, columns=train_df.columns.values)"
      ],
      "execution_count": 11,
      "outputs": []
    },
    {
      "cell_type": "markdown",
      "metadata": {
        "id": "3ej9548hD2Gp"
      },
      "source": [
        "Build Model and add fully interconnected layers"
      ]
    },
    {
      "cell_type": "code",
      "metadata": {
        "id": "G2BO3E-CD4jM"
      },
      "source": [
        "model = tf.keras.Sequential()"
      ],
      "execution_count": 8,
      "outputs": []
    },
    {
      "cell_type": "code",
      "metadata": {
        "id": "ynZLLc2DECl5"
      },
      "source": [
        "model.add(tf.keras.layers.Dense(50, activation='relu')) #Specifies activation function as relu\r\n",
        "model.add(tf.keras.layers.Dense(100, activation='relu'))\r\n",
        "model.add(tf.keras.layers.Dense(50, activation='relu'))\r\n",
        "model.add(tf.keras.layers.Dense(1))"
      ],
      "execution_count": 9,
      "outputs": []
    },
    {
      "cell_type": "code",
      "metadata": {
        "id": "I8oaewv8EKMo"
      },
      "source": [
        "model.compile(loss='mean_squared_error', optimizer='adam') #Compile the model"
      ],
      "execution_count": 14,
      "outputs": []
    },
    {
      "cell_type": "markdown",
      "metadata": {
        "id": "j89paO3LEQF6"
      },
      "source": [
        "Training the model"
      ]
    },
    {
      "cell_type": "code",
      "metadata": {
        "id": "MaPmhADvERqw"
      },
      "source": [
        "X = scaled_train_df.drop(target, axis=1).values\r\n",
        "Y = scaled_train_df[[target]].values"
      ],
      "execution_count": 12,
      "outputs": []
    },
    {
      "cell_type": "code",
      "metadata": {
        "colab": {
          "base_uri": "https://localhost:8080/"
        },
        "id": "x0mlA_puEepC",
        "outputId": "cdb586bd-43bf-46df-e908-7b6ccf8b033b"
      },
      "source": [
        "model.fit(\r\n",
        "    X[10:],\r\n",
        "    Y[10:],\r\n",
        "    epochs=60,\r\n",
        "    shuffle=True,\r\n",
        "    verbose=2\r\n",
        ")"
      ],
      "execution_count": 15,
      "outputs": [
        {
          "output_type": "stream",
          "text": [
            "Epoch 1/60\n",
            "11/11 - 1s - loss: 0.0727\n",
            "Epoch 2/60\n",
            "11/11 - 0s - loss: 0.0299\n",
            "Epoch 3/60\n",
            "11/11 - 0s - loss: 0.0231\n",
            "Epoch 4/60\n",
            "11/11 - 0s - loss: 0.0187\n",
            "Epoch 5/60\n",
            "11/11 - 0s - loss: 0.0151\n",
            "Epoch 6/60\n",
            "11/11 - 0s - loss: 0.0132\n",
            "Epoch 7/60\n",
            "11/11 - 0s - loss: 0.0110\n",
            "Epoch 8/60\n",
            "11/11 - 0s - loss: 0.0100\n",
            "Epoch 9/60\n",
            "11/11 - 0s - loss: 0.0091\n",
            "Epoch 10/60\n",
            "11/11 - 0s - loss: 0.0083\n",
            "Epoch 11/60\n",
            "11/11 - 0s - loss: 0.0075\n",
            "Epoch 12/60\n",
            "11/11 - 0s - loss: 0.0077\n",
            "Epoch 13/60\n",
            "11/11 - 0s - loss: 0.0068\n",
            "Epoch 14/60\n",
            "11/11 - 0s - loss: 0.0069\n",
            "Epoch 15/60\n",
            "11/11 - 0s - loss: 0.0066\n",
            "Epoch 16/60\n",
            "11/11 - 0s - loss: 0.0073\n",
            "Epoch 17/60\n",
            "11/11 - 0s - loss: 0.0054\n",
            "Epoch 18/60\n",
            "11/11 - 0s - loss: 0.0055\n",
            "Epoch 19/60\n",
            "11/11 - 0s - loss: 0.0054\n",
            "Epoch 20/60\n",
            "11/11 - 0s - loss: 0.0048\n",
            "Epoch 21/60\n",
            "11/11 - 0s - loss: 0.0049\n",
            "Epoch 22/60\n",
            "11/11 - 0s - loss: 0.0052\n",
            "Epoch 23/60\n",
            "11/11 - 0s - loss: 0.0044\n",
            "Epoch 24/60\n",
            "11/11 - 0s - loss: 0.0048\n",
            "Epoch 25/60\n",
            "11/11 - 0s - loss: 0.0045\n",
            "Epoch 26/60\n",
            "11/11 - 0s - loss: 0.0041\n",
            "Epoch 27/60\n",
            "11/11 - 0s - loss: 0.0041\n",
            "Epoch 28/60\n",
            "11/11 - 0s - loss: 0.0039\n",
            "Epoch 29/60\n",
            "11/11 - 0s - loss: 0.0037\n",
            "Epoch 30/60\n",
            "11/11 - 0s - loss: 0.0036\n",
            "Epoch 31/60\n",
            "11/11 - 0s - loss: 0.0036\n",
            "Epoch 32/60\n",
            "11/11 - 0s - loss: 0.0042\n",
            "Epoch 33/60\n",
            "11/11 - 0s - loss: 0.0041\n",
            "Epoch 34/60\n",
            "11/11 - 0s - loss: 0.0044\n",
            "Epoch 35/60\n",
            "11/11 - 0s - loss: 0.0045\n",
            "Epoch 36/60\n",
            "11/11 - 0s - loss: 0.0038\n",
            "Epoch 37/60\n",
            "11/11 - 0s - loss: 0.0087\n",
            "Epoch 38/60\n",
            "11/11 - 0s - loss: 0.0041\n",
            "Epoch 39/60\n",
            "11/11 - 0s - loss: 0.0036\n",
            "Epoch 40/60\n",
            "11/11 - 0s - loss: 0.0030\n",
            "Epoch 41/60\n",
            "11/11 - 0s - loss: 0.0031\n",
            "Epoch 42/60\n",
            "11/11 - 0s - loss: 0.0034\n",
            "Epoch 43/60\n",
            "11/11 - 0s - loss: 0.0032\n",
            "Epoch 44/60\n",
            "11/11 - 0s - loss: 0.0031\n",
            "Epoch 45/60\n",
            "11/11 - 0s - loss: 0.0033\n",
            "Epoch 46/60\n",
            "11/11 - 0s - loss: 0.0030\n",
            "Epoch 47/60\n",
            "11/11 - 0s - loss: 0.0029\n",
            "Epoch 48/60\n",
            "11/11 - 0s - loss: 0.0030\n",
            "Epoch 49/60\n",
            "11/11 - 0s - loss: 0.0029\n",
            "Epoch 50/60\n",
            "11/11 - 0s - loss: 0.0032\n",
            "Epoch 51/60\n",
            "11/11 - 0s - loss: 0.0027\n",
            "Epoch 52/60\n",
            "11/11 - 0s - loss: 0.0029\n",
            "Epoch 53/60\n",
            "11/11 - 0s - loss: 0.0024\n",
            "Epoch 54/60\n",
            "11/11 - 0s - loss: 0.0024\n",
            "Epoch 55/60\n",
            "11/11 - 0s - loss: 0.0025\n",
            "Epoch 56/60\n",
            "11/11 - 0s - loss: 0.0028\n",
            "Epoch 57/60\n",
            "11/11 - 0s - loss: 0.0026\n",
            "Epoch 58/60\n",
            "11/11 - 0s - loss: 0.0025\n",
            "Epoch 59/60\n",
            "11/11 - 0s - loss: 0.0023\n",
            "Epoch 60/60\n",
            "11/11 - 0s - loss: 0.0024\n"
          ],
          "name": "stdout"
        },
        {
          "output_type": "execute_result",
          "data": {
            "text/plain": [
              "<tensorflow.python.keras.callbacks.History at 0x7f5c159de780>"
            ]
          },
          "metadata": {
            "tags": []
          },
          "execution_count": 15
        }
      ]
    },
    {
      "cell_type": "markdown",
      "metadata": {
        "id": "WI5YXqUwEqHH"
      },
      "source": [
        "Testing the model"
      ]
    },
    {
      "cell_type": "code",
      "metadata": {
        "colab": {
          "base_uri": "https://localhost:8080/"
        },
        "id": "eNncD9KwEryO",
        "outputId": "bd743c91-734a-4623-cd0b-e43d6d1b5dff"
      },
      "source": [
        "test_error_rate = model.evaluate(X[:10], Y[:10], verbose=0)\r\n",
        "print(\"The error for the test data set is: {}\".format(test_error_rate))"
      ],
      "execution_count": 16,
      "outputs": [
        {
          "output_type": "stream",
          "text": [
            "The error for the test data set is: 0.00282767741009593\n"
          ],
          "name": "stdout"
        }
      ]
    },
    {
      "cell_type": "markdown",
      "metadata": {
        "id": "wILb5ksCE-_N"
      },
      "source": [
        "Try Prediction"
      ]
    },
    {
      "cell_type": "code",
      "metadata": {
        "colab": {
          "base_uri": "https://localhost:8080/"
        },
        "id": "CClrsYt_E57l",
        "outputId": "344661b5-21fc-4d94-892b-a75a9c815c98"
      },
      "source": [
        "prediction = model.predict(X[:1])\r\n",
        "y_0 = prediction[0][0]\r\n",
        "print('Prediction with scaling - {}',format(y_0))\r\n",
        "y_0 -= added\r\n",
        "y_0 /= multiplied_by\r\n",
        "print(\"Housing Price Prediction  - ${}\".format(y_0))"
      ],
      "execution_count": 18,
      "outputs": [
        {
          "output_type": "stream",
          "text": [
            "Prediction with scaling - {} 0.4796333909034729\n",
            "Housing Price Prediction  - $26.58350259065628\n"
          ],
          "name": "stdout"
        }
      ]
    }
  ]
}